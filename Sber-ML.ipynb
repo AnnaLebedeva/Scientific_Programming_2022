{
 "cells": [
  {
   "cell_type": "markdown",
   "id": "76f1f3b3",
   "metadata": {},
   "source": [
    "За основу я взяла датасет от Сбербанка:\n",
    "https://www.kaggle.com/competitions/sberbank-russian-housing-market  \n",
    "Это набор данных об объектах недвижимости в Москве, по которым были совершены сделки с 2011 по 2016 год.  \n",
    "Датасет содержит информацию о здании, окружающем районе и цене сделки."
   ]
  },
  {
   "cell_type": "code",
   "execution_count": 314,
   "id": "c5e23c78",
   "metadata": {},
   "outputs": [],
   "source": [
    "import numpy as np\n",
    "import pandas as pd\n",
    "import matplotlib.pyplot as plt\n",
    "import seaborn as sns\n",
    "from collections import Counter\n",
    "import warnings\n",
    "warnings.filterwarnings('ignore')\n",
    "\n",
    "from sklearn.preprocessing import OneHotEncoder\n",
    "from sklearn.model_selection import train_test_split\n",
    "from sklearn.linear_model import LinearRegression\n",
    "from sklearn.metrics import mean_squared_error\n",
    "from math import sqrt\n",
    "from sklearn.ensemble import RandomForestRegressor\n",
    "from sklearn.model_selection import GridSearchCV"
   ]
  },
  {
   "cell_type": "markdown",
   "id": "ae8278f3",
   "metadata": {},
   "source": [
    "Импортируем датасет:"
   ]
  },
  {
   "cell_type": "code",
   "execution_count": 315,
   "id": "11ad01e7",
   "metadata": {},
   "outputs": [
    {
     "data": {
      "text/html": [
       "<div>\n",
       "<style scoped>\n",
       "    .dataframe tbody tr th:only-of-type {\n",
       "        vertical-align: middle;\n",
       "    }\n",
       "\n",
       "    .dataframe tbody tr th {\n",
       "        vertical-align: top;\n",
       "    }\n",
       "\n",
       "    .dataframe thead th {\n",
       "        text-align: right;\n",
       "    }\n",
       "</style>\n",
       "<table border=\"1\" class=\"dataframe\">\n",
       "  <thead>\n",
       "    <tr style=\"text-align: right;\">\n",
       "      <th></th>\n",
       "      <th>id</th>\n",
       "      <th>timestamp</th>\n",
       "      <th>full_sq</th>\n",
       "      <th>life_sq</th>\n",
       "      <th>floor</th>\n",
       "      <th>max_floor</th>\n",
       "      <th>material</th>\n",
       "      <th>build_year</th>\n",
       "      <th>num_room</th>\n",
       "      <th>kitch_sq</th>\n",
       "      <th>...</th>\n",
       "      <th>cafe_count_5000_price_2500</th>\n",
       "      <th>cafe_count_5000_price_4000</th>\n",
       "      <th>cafe_count_5000_price_high</th>\n",
       "      <th>big_church_count_5000</th>\n",
       "      <th>church_count_5000</th>\n",
       "      <th>mosque_count_5000</th>\n",
       "      <th>leisure_count_5000</th>\n",
       "      <th>sport_count_5000</th>\n",
       "      <th>market_count_5000</th>\n",
       "      <th>price_doc</th>\n",
       "    </tr>\n",
       "  </thead>\n",
       "  <tbody>\n",
       "    <tr>\n",
       "      <th>0</th>\n",
       "      <td>1</td>\n",
       "      <td>2011-08-20</td>\n",
       "      <td>43</td>\n",
       "      <td>27.0</td>\n",
       "      <td>4.0</td>\n",
       "      <td>NaN</td>\n",
       "      <td>NaN</td>\n",
       "      <td>NaN</td>\n",
       "      <td>NaN</td>\n",
       "      <td>NaN</td>\n",
       "      <td>...</td>\n",
       "      <td>9.0</td>\n",
       "      <td>4.0</td>\n",
       "      <td>0.0</td>\n",
       "      <td>13.0</td>\n",
       "      <td>22.0</td>\n",
       "      <td>1.0</td>\n",
       "      <td>0.0</td>\n",
       "      <td>52.0</td>\n",
       "      <td>4.0</td>\n",
       "      <td>5850000.0</td>\n",
       "    </tr>\n",
       "    <tr>\n",
       "      <th>1</th>\n",
       "      <td>2</td>\n",
       "      <td>2011-08-23</td>\n",
       "      <td>34</td>\n",
       "      <td>19.0</td>\n",
       "      <td>3.0</td>\n",
       "      <td>NaN</td>\n",
       "      <td>NaN</td>\n",
       "      <td>NaN</td>\n",
       "      <td>NaN</td>\n",
       "      <td>NaN</td>\n",
       "      <td>...</td>\n",
       "      <td>15.0</td>\n",
       "      <td>3.0</td>\n",
       "      <td>0.0</td>\n",
       "      <td>15.0</td>\n",
       "      <td>29.0</td>\n",
       "      <td>1.0</td>\n",
       "      <td>10.0</td>\n",
       "      <td>66.0</td>\n",
       "      <td>14.0</td>\n",
       "      <td>6000000.0</td>\n",
       "    </tr>\n",
       "    <tr>\n",
       "      <th>2</th>\n",
       "      <td>3</td>\n",
       "      <td>2011-08-27</td>\n",
       "      <td>43</td>\n",
       "      <td>29.0</td>\n",
       "      <td>2.0</td>\n",
       "      <td>NaN</td>\n",
       "      <td>NaN</td>\n",
       "      <td>NaN</td>\n",
       "      <td>NaN</td>\n",
       "      <td>NaN</td>\n",
       "      <td>...</td>\n",
       "      <td>10.0</td>\n",
       "      <td>3.0</td>\n",
       "      <td>0.0</td>\n",
       "      <td>11.0</td>\n",
       "      <td>27.0</td>\n",
       "      <td>0.0</td>\n",
       "      <td>4.0</td>\n",
       "      <td>67.0</td>\n",
       "      <td>10.0</td>\n",
       "      <td>5700000.0</td>\n",
       "    </tr>\n",
       "    <tr>\n",
       "      <th>3</th>\n",
       "      <td>4</td>\n",
       "      <td>2011-09-01</td>\n",
       "      <td>89</td>\n",
       "      <td>50.0</td>\n",
       "      <td>9.0</td>\n",
       "      <td>NaN</td>\n",
       "      <td>NaN</td>\n",
       "      <td>NaN</td>\n",
       "      <td>NaN</td>\n",
       "      <td>NaN</td>\n",
       "      <td>...</td>\n",
       "      <td>11.0</td>\n",
       "      <td>2.0</td>\n",
       "      <td>1.0</td>\n",
       "      <td>4.0</td>\n",
       "      <td>4.0</td>\n",
       "      <td>0.0</td>\n",
       "      <td>0.0</td>\n",
       "      <td>26.0</td>\n",
       "      <td>3.0</td>\n",
       "      <td>13100000.0</td>\n",
       "    </tr>\n",
       "    <tr>\n",
       "      <th>4</th>\n",
       "      <td>5</td>\n",
       "      <td>2011-09-05</td>\n",
       "      <td>77</td>\n",
       "      <td>77.0</td>\n",
       "      <td>4.0</td>\n",
       "      <td>NaN</td>\n",
       "      <td>NaN</td>\n",
       "      <td>NaN</td>\n",
       "      <td>NaN</td>\n",
       "      <td>NaN</td>\n",
       "      <td>...</td>\n",
       "      <td>319.0</td>\n",
       "      <td>108.0</td>\n",
       "      <td>17.0</td>\n",
       "      <td>135.0</td>\n",
       "      <td>236.0</td>\n",
       "      <td>2.0</td>\n",
       "      <td>91.0</td>\n",
       "      <td>195.0</td>\n",
       "      <td>14.0</td>\n",
       "      <td>16331452.0</td>\n",
       "    </tr>\n",
       "  </tbody>\n",
       "</table>\n",
       "<p>5 rows × 292 columns</p>\n",
       "</div>"
      ],
      "text/plain": [
       "   id   timestamp  full_sq  life_sq  floor  max_floor  material  build_year  \\\n",
       "0   1  2011-08-20       43     27.0    4.0        NaN       NaN         NaN   \n",
       "1   2  2011-08-23       34     19.0    3.0        NaN       NaN         NaN   \n",
       "2   3  2011-08-27       43     29.0    2.0        NaN       NaN         NaN   \n",
       "3   4  2011-09-01       89     50.0    9.0        NaN       NaN         NaN   \n",
       "4   5  2011-09-05       77     77.0    4.0        NaN       NaN         NaN   \n",
       "\n",
       "   num_room  kitch_sq  ...  cafe_count_5000_price_2500  \\\n",
       "0       NaN       NaN  ...                         9.0   \n",
       "1       NaN       NaN  ...                        15.0   \n",
       "2       NaN       NaN  ...                        10.0   \n",
       "3       NaN       NaN  ...                        11.0   \n",
       "4       NaN       NaN  ...                       319.0   \n",
       "\n",
       "  cafe_count_5000_price_4000 cafe_count_5000_price_high  \\\n",
       "0                        4.0                        0.0   \n",
       "1                        3.0                        0.0   \n",
       "2                        3.0                        0.0   \n",
       "3                        2.0                        1.0   \n",
       "4                      108.0                       17.0   \n",
       "\n",
       "   big_church_count_5000  church_count_5000  mosque_count_5000  \\\n",
       "0                   13.0               22.0                1.0   \n",
       "1                   15.0               29.0                1.0   \n",
       "2                   11.0               27.0                0.0   \n",
       "3                    4.0                4.0                0.0   \n",
       "4                  135.0              236.0                2.0   \n",
       "\n",
       "   leisure_count_5000  sport_count_5000  market_count_5000   price_doc  \n",
       "0                 0.0              52.0                4.0   5850000.0  \n",
       "1                10.0              66.0               14.0   6000000.0  \n",
       "2                 4.0              67.0               10.0   5700000.0  \n",
       "3                 0.0              26.0                3.0  13100000.0  \n",
       "4                91.0             195.0               14.0  16331452.0  \n",
       "\n",
       "[5 rows x 292 columns]"
      ]
     },
     "execution_count": 315,
     "metadata": {},
     "output_type": "execute_result"
    }
   ],
   "source": [
    "train = pd.read_csv('sber.csv')\n",
    "train.head(5)"
   ]
  },
  {
   "cell_type": "markdown",
   "id": "6aac6faf",
   "metadata": {},
   "source": [
    "Визуально видно, что в таблице много пропусков. Есть целые столбцы без информации. Удалим все столбцы, в которых есть пропущенные данные (если в столбце есть пропущенные данные, то их в большинстве случаев больше половины)."
   ]
  },
  {
   "cell_type": "code",
   "execution_count": 316,
   "id": "46a697bf",
   "metadata": {},
   "outputs": [],
   "source": [
    "train = train[train[\"price_doc\"].notnull()] # был только один Nan, а это самый важный столбец\n",
    "train = train.drop(['ecology', 'timestamp', \"product_type\"], axis=1)\n",
    "# в ecology не было Nan, но было текстом написано \"no information\"\n",
    "for column in train.columns: # удаляем столбцы с Nan\n",
    "    if train[column].isnull().sum()>0:\n",
    "        train.drop(column, inplace=True, axis=1)\n",
    "    if 'ID' in column:\n",
    "        train.drop(column, inplace=True, axis=1)\n",
    "# также удалим столбцы, которые не несут смысловой нагрузки, такие как id, дата сделки (мы не будем ее использовать)\n",
    "# колонку product_type, тк я не поняла что это, а также все столбцы касаемо ID\n",
    "# ID_metro, ID_railroad_station_walk, ID_railroad_station_avto и тд."
   ]
  },
  {
   "cell_type": "markdown",
   "id": "17657a01",
   "metadata": {},
   "source": [
    "Для начала посмотрим на данные в целом."
   ]
  },
  {
   "cell_type": "code",
   "execution_count": 317,
   "id": "9903a2d9",
   "metadata": {},
   "outputs": [
    {
     "name": "stdout",
     "output_type": "stream",
     "text": [
      "Самая низкая цена за объект недвижимости составляла 190,000 рублей, самая высокая - 111,111,112 рублей\n",
      "Средняя цена за объект недвижимости составляла 6,332,322 рублей, медианная цена - 5,650,000 рублей\n"
     ]
    },
    {
     "data": {
      "image/png": "[encoded data removed]",
      "text/plain": [
       "<Figure size 1008x288 with 1 Axes>"
      ]
     },
     "metadata": {
      "needs_background": "light"
     },
     "output_type": "display_data"
    }
   ],
   "source": [
    "# посмотрим на целевую переменную:\n",
    "print('Самая низкая цена за объект недвижимости составляла {:,.0f} рублей, самая высокая - {:,.0f} рублей'.format(\n",
    "    train.price_doc.min(), train.price_doc.max()))\n",
    "print('Средняя цена за объект недвижимости составляла {:,.0f} рублей, медианная цена - {:,.0f} рублей'.format(\n",
    "    train.price_doc.mean(), train.price_doc.median()))\n",
    "train.price_doc.hist(bins=75, rwidth=.9, figsize=(14,4))\n",
    "plt.title('Какова стоимость недвижимости?')\n",
    "plt.show()"
   ]
  },
  {
   "cell_type": "code",
   "execution_count": 318,
   "id": "198e3405",
   "metadata": {},
   "outputs": [
    {
     "name": "stdout",
     "output_type": "stream",
     "text": [
      "Самый ближайший объект находится в 0.09 минутах от метро, самый дальний - в 600.32 минутах.\n"
     ]
    },
    {
     "data": {
      "image/png": "[encoded data removed]",
      "text/plain": [
       "<Figure size 864x288 with 1 Axes>"
      ]
     },
     "metadata": {
      "needs_background": "light"
     },
     "output_type": "display_data"
    }
   ],
   "source": [
    "# посмотрим на распределение жилья в зависимости от количества минут пешком до метро\n",
    "print('Самый ближайший объект находится в {} минутах от метро, самый дальний - в {} минутах.'.format(\n",
    "    round(train.metro_min_walk.min(),2), round(train.metro_min_walk.max(),2)))\n",
    "train.metro_min_walk.hist(bins=50, rwidth=.9, figsize=(12,4))\n",
    "plt.title('Как далеко от метро находятся объекты?')\n",
    "plt.show()"
   ]
  },
  {
   "cell_type": "markdown",
   "id": "6f5fbb0c",
   "metadata": {},
   "source": [
    "Большинство жилищ в 0-30 минутах от метро, видимо, это связано с тем, что в Москве много станций."
   ]
  },
  {
   "cell_type": "code",
   "execution_count": 319,
   "id": "d274b975",
   "metadata": {},
   "outputs": [
    {
     "data": {
      "image/png": "[encoded data removed]",
      "text/plain": [
       "<Figure size 432x1440 with 1 Axes>"
      ]
     },
     "metadata": {
      "needs_background": "light"
     },
     "output_type": "display_data"
    }
   ],
   "source": [
    "# посмотрим, в каких районах расположены объекты\n",
    "train.groupby('sub_area').id.count().\\\n",
    "    sort_values().\\\n",
    "    plot(kind='barh', figsize=(6,20))\n",
    "plt.title('В каких районах расположены объекты недвижимости?')\n",
    "plt.show()"
   ]
  },
  {
   "cell_type": "code",
   "execution_count": 320,
   "id": "218167d8",
   "metadata": {},
   "outputs": [
    {
     "name": "stdout",
     "output_type": "stream",
     "text": [
      "Самая большая площадь объекта недвижимости составляет 5,326 кв.м., самая маленькая - 5 кв.м.\n",
      "Средняя площадь объекта недвижимости составляет 54 кв.м., медианная - 45 кв.м.\n"
     ]
    },
    {
     "data": {
      "image/png": "[encoded data removed]",
      "text/plain": [
       "<Figure size 576x288 with 1 Axes>"
      ]
     },
     "metadata": {
      "needs_background": "light"
     },
     "output_type": "display_data"
    }
   ],
   "source": [
    "# Насколько большие продаваемые объекты по площади?\n",
    "print('Самая большая площадь объекта недвижимости составляет {:,.0f} кв.м., самая маленькая - {:,.0f} кв.м.'.format(\n",
    "    train.full_sq.max(), train.full_sq.min()))\n",
    "print('Средняя площадь объекта недвижимости составляет {:,.0f} кв.м., медианная - {:,.0f} кв.м.'.format(\n",
    "    train.full_sq.mean(), train.full_sq.median()))\n",
    "\n",
    "train.full_sq.hist(bins=21, rwidth=.8, figsize=(8,4))\n",
    "plt.title('Какие размеры у объектов недвижимости? в кв.м.')\n",
    "plt.show()"
   ]
  },
  {
   "cell_type": "markdown",
   "id": "10fe7944",
   "metadata": {},
   "source": [
    "Распределение по стоимости и по площади имеет, судя по гистограммам, очень большие выбросы, мы попробуем выбросить эти значения для улучшения качества предсказаний."
   ]
  },
  {
   "cell_type": "code",
   "execution_count": 321,
   "id": "9d6b1a68",
   "metadata": {},
   "outputs": [
    {
     "data": {
      "text/plain": [
       "<AxesSubplot:xlabel='full_sq'>"
      ]
     },
     "execution_count": 321,
     "metadata": {},
     "output_type": "execute_result"
    },
    {
     "data": {
      "image/png": "[encoded data removed]",
      "text/plain": [
       "<Figure size 1440x360 with 1 Axes>"
      ]
     },
     "metadata": {
      "needs_background": "light"
     },
     "output_type": "display_data"
    }
   ],
   "source": [
    "plt.subplots(figsize=(20,5))\n",
    "sns.boxplot(x=train[\"full_sq\"])"
   ]
  },
  {
   "cell_type": "markdown",
   "id": "018694b0",
   "metadata": {},
   "source": [
    "Судя по этому графику мы можем взять объекты площадью менее 250 кв.м."
   ]
  },
  {
   "cell_type": "code",
   "execution_count": 322,
   "id": "1396d5d5",
   "metadata": {},
   "outputs": [
    {
     "data": {
      "text/plain": [
       "(6906, 237)"
      ]
     },
     "execution_count": 322,
     "metadata": {},
     "output_type": "execute_result"
    }
   ],
   "source": [
    "train.shape"
   ]
  },
  {
   "cell_type": "code",
   "execution_count": 323,
   "id": "d9d52926",
   "metadata": {},
   "outputs": [
    {
     "data": {
      "text/plain": [
       "(6897, 237)"
      ]
     },
     "execution_count": 323,
     "metadata": {},
     "output_type": "execute_result"
    }
   ],
   "source": [
    "train = train[train['full_sq'] < 250]\n",
    "train.shape"
   ]
  },
  {
   "cell_type": "markdown",
   "id": "6204c529",
   "metadata": {},
   "source": [
    "Посмотрим на цену."
   ]
  },
  {
   "cell_type": "code",
   "execution_count": 324,
   "id": "6b80ee2d",
   "metadata": {},
   "outputs": [
    {
     "data": {
      "text/plain": [
       "<AxesSubplot:xlabel='price_doc'>"
      ]
     },
     "execution_count": 324,
     "metadata": {},
     "output_type": "execute_result"
    },
    {
     "data": {
      "image/png": "[encoded data removed]",
      "text/plain": [
       "<Figure size 432x288 with 1 Axes>"
      ]
     },
     "metadata": {
      "needs_background": "light"
     },
     "output_type": "display_data"
    }
   ],
   "source": [
    "sns.boxplot(x=train[\"price_doc\"])"
   ]
  },
  {
   "cell_type": "markdown",
   "id": "d21b4b2e",
   "metadata": {},
   "source": [
    "Исходя из этого графика возьмём объекты стоимостью менее 50 млн.рублей."
   ]
  },
  {
   "cell_type": "code",
   "execution_count": 325,
   "id": "256aa417",
   "metadata": {},
   "outputs": [
    {
     "data": {
      "text/plain": [
       "(6891, 237)"
      ]
     },
     "execution_count": 325,
     "metadata": {},
     "output_type": "execute_result"
    }
   ],
   "source": [
    "train = train[train['price_doc'] < 50000000]\n",
    "train.shape\n",
    "# всего на 9 квартир меньше, а данные будут более показательные"
   ]
  },
  {
   "cell_type": "markdown",
   "id": "10a00643",
   "metadata": {},
   "source": [
    "После корректировки данных, посмотрим на изменившиеся распределения:"
   ]
  },
  {
   "cell_type": "code",
   "execution_count": 326,
   "id": "70048e5d",
   "metadata": {},
   "outputs": [
    {
     "name": "stdout",
     "output_type": "stream",
     "text": [
      "Самая большая площадь объекта недвижимости составляет 211 кв.м., самая маленькая - 5 кв.м.\n",
      "Средняя площадь объекта недвижимости составляет 52 кв.м., медианная - 45 кв.м.\n"
     ]
    },
    {
     "data": {
      "image/png": "[encoded data removed]",
      "text/plain": [
       "<Figure size 576x288 with 1 Axes>"
      ]
     },
     "metadata": {
      "needs_background": "light"
     },
     "output_type": "display_data"
    }
   ],
   "source": [
    "print('Самая большая площадь объекта недвижимости составляет {:,.0f} кв.м., самая маленькая - {:,.0f} кв.м.'.format(\n",
    "    train.full_sq.max(), train.full_sq.min()))\n",
    "print('Средняя площадь объекта недвижимости составляет {:,.0f} кв.м., медианная - {:,.0f} кв.м.'.format(\n",
    "    train.full_sq.mean(), train.full_sq.median()))\n",
    "\n",
    "train.full_sq.hist(bins=21, rwidth=.8, figsize=(8,4))\n",
    "plt.title('Какие размеры у объектов недвижимости? в кв.м.')\n",
    "plt.show()"
   ]
  },
  {
   "cell_type": "code",
   "execution_count": 327,
   "id": "ee136205",
   "metadata": {},
   "outputs": [
    {
     "name": "stdout",
     "output_type": "stream",
     "text": [
      "Самая низкая цена за объект недвижимости составляла 190,000 рублей, самая высокая - 40,500,000 рублей\n",
      "Средняя цена за объект недвижимости составляла 6,271,083 рублей, медианная цена - 5,650,000 рублей\n"
     ]
    },
    {
     "data": {
      "image/png": "[encoded data removed]",
      "text/plain": [
       "<Figure size 1008x288 with 1 Axes>"
      ]
     },
     "metadata": {
      "needs_background": "light"
     },
     "output_type": "display_data"
    }
   ],
   "source": [
    "print('Самая низкая цена за объект недвижимости составляла {:,.0f} рублей, самая высокая - {:,.0f} рублей'.format(\n",
    "    train.price_doc.min(), train.price_doc.max()))\n",
    "print('Средняя цена за объект недвижимости составляла {:,.0f} рублей, медианная цена - {:,.0f} рублей'.format(\n",
    "    train.price_doc.mean(), train.price_doc.median()))\n",
    "train.price_doc.hist(bins=75, rwidth=.9, figsize=(14,4))\n",
    "plt.title('Какова стоимость недвижимости?')\n",
    "plt.show()"
   ]
  },
  {
   "cell_type": "markdown",
   "id": "191892a3",
   "metadata": {},
   "source": [
    "Выглядит более равномерно."
   ]
  },
  {
   "cell_type": "markdown",
   "id": "1eb4efd0",
   "metadata": {},
   "source": [
    "Ясно, что чтобы оценивать стоимость жилья в зависимости от предоставленных параметров, нам необходимо посчитать стоимость квадратного метра."
   ]
  },
  {
   "cell_type": "code",
   "execution_count": 328,
   "id": "2ec17e3c",
   "metadata": {},
   "outputs": [
    {
     "data": {
      "text/plain": [
       "0       136046.511628\n",
       "1       176470.588235\n",
       "2       132558.139535\n",
       "3       147191.011236\n",
       "4       212096.779221\n",
       "            ...      \n",
       "6901    154285.714286\n",
       "6902    154358.454545\n",
       "6903    144736.842105\n",
       "6904     84141.509434\n",
       "6905     81686.278481\n",
       "Name: price_per_sqm, Length: 6891, dtype: float64"
      ]
     },
     "execution_count": 328,
     "metadata": {},
     "output_type": "execute_result"
    }
   ],
   "source": [
    "train['price_per_sqm'] = train['price_doc']/train['full_sq']\n",
    "train['price_per_sqm']"
   ]
  },
  {
   "cell_type": "code",
   "execution_count": 329,
   "id": "f156e592",
   "metadata": {},
   "outputs": [
    {
     "data": {
      "text/plain": [
       "<AxesSubplot:xlabel='price_per_sqm'>"
      ]
     },
     "execution_count": 329,
     "metadata": {},
     "output_type": "execute_result"
    },
    {
     "data": {
      "image/png": "[encoded data removed]",
      "text/plain": [
       "<Figure size 432x288 with 1 Axes>"
      ]
     },
     "metadata": {
      "needs_background": "light"
     },
     "output_type": "display_data"
    }
   ],
   "source": [
    "sns.boxplot(x=train[\"price_per_sqm\"])"
   ]
  },
  {
   "cell_type": "code",
   "execution_count": 330,
   "id": "38f36f22",
   "metadata": {},
   "outputs": [
    {
     "data": {
      "text/plain": [
       "(6870, 238)"
      ]
     },
     "execution_count": 330,
     "metadata": {},
     "output_type": "execute_result"
    }
   ],
   "source": [
    "train = train[train['price_per_sqm'] < 300000]\n",
    "train.shape"
   ]
  },
  {
   "cell_type": "markdown",
   "id": "33a646a8",
   "metadata": {},
   "source": [
    "Чтобы закончить подготовку датасета к обучению модели, нам надо будет перевести категориальные фичи в числа."
   ]
  },
  {
   "cell_type": "code",
   "execution_count": 331,
   "id": "0150c2ce",
   "metadata": {},
   "outputs": [
    {
     "data": {
      "text/plain": [
       "['sub_area',\n",
       " 'culture_objects_top_25',\n",
       " 'thermal_power_plant_raion',\n",
       " 'incineration_raion',\n",
       " 'oil_chemistry_raion',\n",
       " 'radiation_raion',\n",
       " 'railroad_terminal_raion',\n",
       " 'big_market_raion',\n",
       " 'nuclear_reactor_raion',\n",
       " 'detention_facility_raion',\n",
       " 'water_1line',\n",
       " 'big_road1_1line',\n",
       " 'railroad_1line']"
      ]
     },
     "execution_count": 331,
     "metadata": {},
     "output_type": "execute_result"
    }
   ],
   "source": [
    "cat_features = list(train.select_dtypes(include=['object']).columns)\n",
    "cat_features"
   ]
  },
  {
   "cell_type": "markdown",
   "id": "bb824909",
   "metadata": {},
   "source": [
    "Тк в столбце 'sub_area' содержится много разных значений, мы воспользуемся OneHotEncoder, а другим фичам присвоим значения 1 или 0 в зависимости от того, положительно или отрицательно они предположительно влияют на цену."
   ]
  },
  {
   "cell_type": "code",
   "execution_count": 332,
   "id": "93214834",
   "metadata": {},
   "outputs": [
    {
     "data": {
      "text/plain": [
       "<6870x140 sparse matrix of type '<class 'numpy.float64'>'\n",
       "\twith 6870 stored elements in Compressed Sparse Row format>"
      ]
     },
     "execution_count": 332,
     "metadata": {},
     "output_type": "execute_result"
    }
   ],
   "source": [
    "OneHotEncoder().fit_transform(np.array(train['sub_area']).reshape(-1, 1))"
   ]
  },
  {
   "cell_type": "code",
   "execution_count": 333,
   "id": "c9e1f6b5",
   "metadata": {},
   "outputs": [
    {
     "data": {
      "text/html": [
       "<div>\n",
       "<style scoped>\n",
       "    .dataframe tbody tr th:only-of-type {\n",
       "        vertical-align: middle;\n",
       "    }\n",
       "\n",
       "    .dataframe tbody tr th {\n",
       "        vertical-align: top;\n",
       "    }\n",
       "\n",
       "    .dataframe thead th {\n",
       "        text-align: right;\n",
       "    }\n",
       "</style>\n",
       "<table border=\"1\" class=\"dataframe\">\n",
       "  <thead>\n",
       "    <tr style=\"text-align: right;\">\n",
       "      <th></th>\n",
       "      <th>id</th>\n",
       "      <th>full_sq</th>\n",
       "      <th>area_m</th>\n",
       "      <th>raion_popul</th>\n",
       "      <th>green_zone_part</th>\n",
       "      <th>indust_part</th>\n",
       "      <th>children_preschool</th>\n",
       "      <th>preschool_education_centers_raion</th>\n",
       "      <th>children_school</th>\n",
       "      <th>school_education_centers_raion</th>\n",
       "      <th>...</th>\n",
       "      <th>130</th>\n",
       "      <th>131</th>\n",
       "      <th>132</th>\n",
       "      <th>133</th>\n",
       "      <th>134</th>\n",
       "      <th>135</th>\n",
       "      <th>136</th>\n",
       "      <th>137</th>\n",
       "      <th>138</th>\n",
       "      <th>139</th>\n",
       "    </tr>\n",
       "  </thead>\n",
       "  <tbody>\n",
       "    <tr>\n",
       "      <th>0</th>\n",
       "      <td>1</td>\n",
       "      <td>43</td>\n",
       "      <td>6.407578e+06</td>\n",
       "      <td>155572</td>\n",
       "      <td>0.189727</td>\n",
       "      <td>0.000070</td>\n",
       "      <td>9576</td>\n",
       "      <td>5</td>\n",
       "      <td>10309</td>\n",
       "      <td>5</td>\n",
       "      <td>...</td>\n",
       "      <td>0.0</td>\n",
       "      <td>0.0</td>\n",
       "      <td>0.0</td>\n",
       "      <td>0.0</td>\n",
       "      <td>0.0</td>\n",
       "      <td>0.0</td>\n",
       "      <td>0.0</td>\n",
       "      <td>0.0</td>\n",
       "      <td>0.0</td>\n",
       "      <td>0.0</td>\n",
       "    </tr>\n",
       "    <tr>\n",
       "      <th>1</th>\n",
       "      <td>2</td>\n",
       "      <td>34</td>\n",
       "      <td>9.589337e+06</td>\n",
       "      <td>115352</td>\n",
       "      <td>0.372602</td>\n",
       "      <td>0.049637</td>\n",
       "      <td>6880</td>\n",
       "      <td>5</td>\n",
       "      <td>7759</td>\n",
       "      <td>8</td>\n",
       "      <td>...</td>\n",
       "      <td>0.0</td>\n",
       "      <td>0.0</td>\n",
       "      <td>0.0</td>\n",
       "      <td>0.0</td>\n",
       "      <td>0.0</td>\n",
       "      <td>0.0</td>\n",
       "      <td>0.0</td>\n",
       "      <td>0.0</td>\n",
       "      <td>0.0</td>\n",
       "      <td>0.0</td>\n",
       "    </tr>\n",
       "    <tr>\n",
       "      <th>2</th>\n",
       "      <td>3</td>\n",
       "      <td>43</td>\n",
       "      <td>4.808270e+06</td>\n",
       "      <td>101708</td>\n",
       "      <td>0.112560</td>\n",
       "      <td>0.118537</td>\n",
       "      <td>5879</td>\n",
       "      <td>4</td>\n",
       "      <td>6207</td>\n",
       "      <td>7</td>\n",
       "      <td>...</td>\n",
       "      <td>0.0</td>\n",
       "      <td>0.0</td>\n",
       "      <td>0.0</td>\n",
       "      <td>0.0</td>\n",
       "      <td>0.0</td>\n",
       "      <td>0.0</td>\n",
       "      <td>0.0</td>\n",
       "      <td>0.0</td>\n",
       "      <td>0.0</td>\n",
       "      <td>0.0</td>\n",
       "    </tr>\n",
       "    <tr>\n",
       "      <th>3</th>\n",
       "      <td>4</td>\n",
       "      <td>89</td>\n",
       "      <td>1.258354e+07</td>\n",
       "      <td>178473</td>\n",
       "      <td>0.194703</td>\n",
       "      <td>0.069753</td>\n",
       "      <td>13087</td>\n",
       "      <td>9</td>\n",
       "      <td>13670</td>\n",
       "      <td>10</td>\n",
       "      <td>...</td>\n",
       "      <td>0.0</td>\n",
       "      <td>0.0</td>\n",
       "      <td>0.0</td>\n",
       "      <td>0.0</td>\n",
       "      <td>0.0</td>\n",
       "      <td>0.0</td>\n",
       "      <td>0.0</td>\n",
       "      <td>0.0</td>\n",
       "      <td>0.0</td>\n",
       "      <td>0.0</td>\n",
       "    </tr>\n",
       "    <tr>\n",
       "      <th>4</th>\n",
       "      <td>5</td>\n",
       "      <td>77</td>\n",
       "      <td>8.398461e+06</td>\n",
       "      <td>108171</td>\n",
       "      <td>0.015234</td>\n",
       "      <td>0.037316</td>\n",
       "      <td>5706</td>\n",
       "      <td>7</td>\n",
       "      <td>6748</td>\n",
       "      <td>9</td>\n",
       "      <td>...</td>\n",
       "      <td>0.0</td>\n",
       "      <td>0.0</td>\n",
       "      <td>0.0</td>\n",
       "      <td>0.0</td>\n",
       "      <td>0.0</td>\n",
       "      <td>0.0</td>\n",
       "      <td>0.0</td>\n",
       "      <td>0.0</td>\n",
       "      <td>0.0</td>\n",
       "      <td>0.0</td>\n",
       "    </tr>\n",
       "    <tr>\n",
       "      <th>...</th>\n",
       "      <td>...</td>\n",
       "      <td>...</td>\n",
       "      <td>...</td>\n",
       "      <td>...</td>\n",
       "      <td>...</td>\n",
       "      <td>...</td>\n",
       "      <td>...</td>\n",
       "      <td>...</td>\n",
       "      <td>...</td>\n",
       "      <td>...</td>\n",
       "      <td>...</td>\n",
       "      <td>...</td>\n",
       "      <td>...</td>\n",
       "      <td>...</td>\n",
       "      <td>...</td>\n",
       "      <td>...</td>\n",
       "      <td>...</td>\n",
       "      <td>...</td>\n",
       "      <td>...</td>\n",
       "      <td>...</td>\n",
       "      <td>...</td>\n",
       "    </tr>\n",
       "    <tr>\n",
       "      <th>6865</th>\n",
       "      <td>6904</td>\n",
       "      <td>35</td>\n",
       "      <td>9.946335e+06</td>\n",
       "      <td>139322</td>\n",
       "      <td>0.065409</td>\n",
       "      <td>0.225825</td>\n",
       "      <td>6400</td>\n",
       "      <td>7</td>\n",
       "      <td>6558</td>\n",
       "      <td>7</td>\n",
       "      <td>...</td>\n",
       "      <td>0.0</td>\n",
       "      <td>0.0</td>\n",
       "      <td>0.0</td>\n",
       "      <td>0.0</td>\n",
       "      <td>0.0</td>\n",
       "      <td>0.0</td>\n",
       "      <td>0.0</td>\n",
       "      <td>0.0</td>\n",
       "      <td>0.0</td>\n",
       "      <td>0.0</td>\n",
       "    </tr>\n",
       "    <tr>\n",
       "      <th>6866</th>\n",
       "      <td>6905</td>\n",
       "      <td>88</td>\n",
       "      <td>9.249237e+06</td>\n",
       "      <td>156377</td>\n",
       "      <td>0.374068</td>\n",
       "      <td>0.000000</td>\n",
       "      <td>10190</td>\n",
       "      <td>5</td>\n",
       "      <td>11319</td>\n",
       "      <td>5</td>\n",
       "      <td>...</td>\n",
       "      <td>0.0</td>\n",
       "      <td>0.0</td>\n",
       "      <td>0.0</td>\n",
       "      <td>0.0</td>\n",
       "      <td>0.0</td>\n",
       "      <td>0.0</td>\n",
       "      <td>0.0</td>\n",
       "      <td>0.0</td>\n",
       "      <td>0.0</td>\n",
       "      <td>0.0</td>\n",
       "    </tr>\n",
       "    <tr>\n",
       "      <th>6867</th>\n",
       "      <td>6906</td>\n",
       "      <td>76</td>\n",
       "      <td>7.750778e+06</td>\n",
       "      <td>76284</td>\n",
       "      <td>0.094681</td>\n",
       "      <td>0.313925</td>\n",
       "      <td>4935</td>\n",
       "      <td>4</td>\n",
       "      <td>4625</td>\n",
       "      <td>6</td>\n",
       "      <td>...</td>\n",
       "      <td>0.0</td>\n",
       "      <td>0.0</td>\n",
       "      <td>0.0</td>\n",
       "      <td>0.0</td>\n",
       "      <td>0.0</td>\n",
       "      <td>0.0</td>\n",
       "      <td>0.0</td>\n",
       "      <td>0.0</td>\n",
       "      <td>0.0</td>\n",
       "      <td>0.0</td>\n",
       "    </tr>\n",
       "    <tr>\n",
       "      <th>6868</th>\n",
       "      <td>6907</td>\n",
       "      <td>106</td>\n",
       "      <td>1.258354e+07</td>\n",
       "      <td>178473</td>\n",
       "      <td>0.194703</td>\n",
       "      <td>0.069753</td>\n",
       "      <td>13087</td>\n",
       "      <td>9</td>\n",
       "      <td>13670</td>\n",
       "      <td>10</td>\n",
       "      <td>...</td>\n",
       "      <td>0.0</td>\n",
       "      <td>0.0</td>\n",
       "      <td>0.0</td>\n",
       "      <td>0.0</td>\n",
       "      <td>0.0</td>\n",
       "      <td>0.0</td>\n",
       "      <td>0.0</td>\n",
       "      <td>0.0</td>\n",
       "      <td>0.0</td>\n",
       "      <td>0.0</td>\n",
       "    </tr>\n",
       "    <tr>\n",
       "      <th>6869</th>\n",
       "      <td>6908</td>\n",
       "      <td>79</td>\n",
       "      <td>1.139168e+07</td>\n",
       "      <td>19940</td>\n",
       "      <td>0.055644</td>\n",
       "      <td>0.243205</td>\n",
       "      <td>1706</td>\n",
       "      <td>5</td>\n",
       "      <td>1564</td>\n",
       "      <td>5</td>\n",
       "      <td>...</td>\n",
       "      <td>0.0</td>\n",
       "      <td>0.0</td>\n",
       "      <td>0.0</td>\n",
       "      <td>0.0</td>\n",
       "      <td>0.0</td>\n",
       "      <td>0.0</td>\n",
       "      <td>0.0</td>\n",
       "      <td>0.0</td>\n",
       "      <td>0.0</td>\n",
       "      <td>0.0</td>\n",
       "    </tr>\n",
       "  </tbody>\n",
       "</table>\n",
       "<p>6870 rows × 377 columns</p>\n",
       "</div>"
      ],
      "text/plain": [
       "        id  full_sq        area_m  raion_popul  green_zone_part  indust_part  \\\n",
       "0        1       43  6.407578e+06       155572         0.189727     0.000070   \n",
       "1        2       34  9.589337e+06       115352         0.372602     0.049637   \n",
       "2        3       43  4.808270e+06       101708         0.112560     0.118537   \n",
       "3        4       89  1.258354e+07       178473         0.194703     0.069753   \n",
       "4        5       77  8.398461e+06       108171         0.015234     0.037316   \n",
       "...    ...      ...           ...          ...              ...          ...   \n",
       "6865  6904       35  9.946335e+06       139322         0.065409     0.225825   \n",
       "6866  6905       88  9.249237e+06       156377         0.374068     0.000000   \n",
       "6867  6906       76  7.750778e+06        76284         0.094681     0.313925   \n",
       "6868  6907      106  1.258354e+07       178473         0.194703     0.069753   \n",
       "6869  6908       79  1.139168e+07        19940         0.055644     0.243205   \n",
       "\n",
       "      children_preschool  preschool_education_centers_raion  children_school  \\\n",
       "0                   9576                                  5            10309   \n",
       "1                   6880                                  5             7759   \n",
       "2                   5879                                  4             6207   \n",
       "3                  13087                                  9            13670   \n",
       "4                   5706                                  7             6748   \n",
       "...                  ...                                ...              ...   \n",
       "6865                6400                                  7             6558   \n",
       "6866               10190                                  5            11319   \n",
       "6867                4935                                  4             4625   \n",
       "6868               13087                                  9            13670   \n",
       "6869                1706                                  5             1564   \n",
       "\n",
       "      school_education_centers_raion  ...  130  131  132  133  134  135  136  \\\n",
       "0                                  5  ...  0.0  0.0  0.0  0.0  0.0  0.0  0.0   \n",
       "1                                  8  ...  0.0  0.0  0.0  0.0  0.0  0.0  0.0   \n",
       "2                                  7  ...  0.0  0.0  0.0  0.0  0.0  0.0  0.0   \n",
       "3                                 10  ...  0.0  0.0  0.0  0.0  0.0  0.0  0.0   \n",
       "4                                  9  ...  0.0  0.0  0.0  0.0  0.0  0.0  0.0   \n",
       "...                              ...  ...  ...  ...  ...  ...  ...  ...  ...   \n",
       "6865                               7  ...  0.0  0.0  0.0  0.0  0.0  0.0  0.0   \n",
       "6866                               5  ...  0.0  0.0  0.0  0.0  0.0  0.0  0.0   \n",
       "6867                               6  ...  0.0  0.0  0.0  0.0  0.0  0.0  0.0   \n",
       "6868                              10  ...  0.0  0.0  0.0  0.0  0.0  0.0  0.0   \n",
       "6869                               5  ...  0.0  0.0  0.0  0.0  0.0  0.0  0.0   \n",
       "\n",
       "      137  138  139  \n",
       "0     0.0  0.0  0.0  \n",
       "1     0.0  0.0  0.0  \n",
       "2     0.0  0.0  0.0  \n",
       "3     0.0  0.0  0.0  \n",
       "4     0.0  0.0  0.0  \n",
       "...   ...  ...  ...  \n",
       "6865  0.0  0.0  0.0  \n",
       "6866  0.0  0.0  0.0  \n",
       "6867  0.0  0.0  0.0  \n",
       "6868  0.0  0.0  0.0  \n",
       "6869  0.0  0.0  0.0  \n",
       "\n",
       "[6870 rows x 377 columns]"
      ]
     },
     "execution_count": 333,
     "metadata": {},
     "output_type": "execute_result"
    }
   ],
   "source": [
    "result = train.reset_index(drop=True)\n",
    "enc = OneHotEncoder()\n",
    "enc_df = pd.DataFrame(enc.fit_transform(train[['sub_area']]).toarray())\n",
    "train = pd.concat([result, enc_df], axis=1)\n",
    "train.drop([\"sub_area\"], axis=1, inplace=True)\n",
    "train"
   ]
  },
  {
   "cell_type": "code",
   "execution_count": 334,
   "id": "6adc4121",
   "metadata": {},
   "outputs": [],
   "source": [
    "train['culture_objects_top_25'] = train['culture_objects_top_25'].map({'no': 0, 'yes': 1})\n",
    "train['thermal_power_plant_raion'] = train['thermal_power_plant_raion'].map({'no': 0, 'yes': 1})\n",
    "train['incineration_raion'] = train['incineration_raion'].map({'no': 1, 'yes': 0})\n",
    "train['oil_chemistry_raion'] = train['oil_chemistry_raion'].map({'no': 1, 'yes': 0})\n",
    "train['radiation_raion'] = train['radiation_raion'].map({'no': 1, 'yes': 0})\n",
    "train['railroad_terminal_raion'] = train['railroad_terminal_raion'].map({'no': 0, 'yes': 1})\n",
    "train['big_market_raion'] = train['big_market_raion'].map({'no': 0, 'yes': 1})\n",
    "train['nuclear_reactor_raion'] = train['nuclear_reactor_raion'].map({'no': 1, 'yes': 0})\n",
    "train['detention_facility_raion'] = train['detention_facility_raion'].map({'no': 1, 'yes': 0})\n",
    "train['water_1line'] = train['water_1line'].map({'no': 0, 'yes': 1})\n",
    "train['big_road1_1line'] = train['big_road1_1line'].map({'no': 1, 'yes': 0})\n",
    "train['railroad_1line'] = train['railroad_1line'].map({'no': 1, 'yes': 0})"
   ]
  },
  {
   "cell_type": "markdown",
   "id": "4f0f0c16",
   "metadata": {},
   "source": [
    "Подготовим данные для модели на выбранных параметрах."
   ]
  },
  {
   "cell_type": "code",
   "execution_count": 335,
   "id": "418ebeca",
   "metadata": {},
   "outputs": [],
   "source": [
    "X = train.copy()\n",
    "X.drop(['id', 'price_per_sqm', \"price_doc\"], axis=1, inplace=True)"
   ]
  },
  {
   "cell_type": "code",
   "execution_count": 336,
   "id": "11d9c720",
   "metadata": {},
   "outputs": [],
   "source": [
    "y = train['price_per_sqm']"
   ]
  },
  {
   "cell_type": "code",
   "execution_count": 337,
   "id": "084516eb",
   "metadata": {},
   "outputs": [],
   "source": [
    "X_train, X_valid, y_train, y_valid = train_test_split(X, y, test_size=0.2, train_size=0.8)"
   ]
  },
  {
   "cell_type": "code",
   "execution_count": 338,
   "id": "92392d8a",
   "metadata": {},
   "outputs": [
    {
     "data": {
      "text/plain": [
       "LinearRegression()"
      ]
     },
     "execution_count": 338,
     "metadata": {},
     "output_type": "execute_result"
    }
   ],
   "source": [
    "reg = LinearRegression() # создаем класс\n",
    "reg.fit(X_train, y_train)"
   ]
  },
  {
   "cell_type": "code",
   "execution_count": 339,
   "id": "f37f820b",
   "metadata": {},
   "outputs": [],
   "source": [
    "y_pred = reg.predict(X_valid)\n",
    "y_pred_train = reg.predict(X_train)"
   ]
  },
  {
   "cell_type": "code",
   "execution_count": 340,
   "id": "84735739",
   "metadata": {},
   "outputs": [
    {
     "name": "stdout",
     "output_type": "stream",
     "text": [
      "Средняя ошибка на обучении: 40646.024\n",
      "Средняя ошибка на валидации: 45711.382\n"
     ]
    }
   ],
   "source": [
    "print(\"Средняя ошибка на обучении: %.3f\" % sqrt(mean_squared_error(y_train, y_pred_train)))\n",
    "print(\"Средняя ошибка на валидации: %.3f\" % sqrt(mean_squared_error(y_valid, y_pred)))"
   ]
  },
  {
   "cell_type": "markdown",
   "id": "742298be",
   "metadata": {},
   "source": [
    "Мне показалось, что метрика корня из MSE хороша тем, что по сути это сопоставимые данные в рублях. Для цены за квадратный метр ошибка достаточно большая."
   ]
  },
  {
   "cell_type": "code",
   "execution_count": 341,
   "id": "1284384d",
   "metadata": {},
   "outputs": [
    {
     "name": "stdout",
     "output_type": "stream",
     "text": [
      "R2 на обучении: 0.381\n",
      "R2 на валидации: 0.213\n"
     ]
    }
   ],
   "source": [
    "from sklearn.metrics import r2_score\n",
    "\n",
    "print(\"R2 на обучении: %.3f\" % r2_score(y_train, y_pred_train))\n",
    "print(\"R2 на валидации: %.3f\" % r2_score(y_valid, y_pred))"
   ]
  },
  {
   "cell_type": "markdown",
   "id": "e79a0595",
   "metadata": {},
   "source": [
    "Как мы видим, пока что не очень хорошие показатели."
   ]
  },
  {
   "cell_type": "markdown",
   "id": "6429af83",
   "metadata": {},
   "source": [
    "Попробуем обучить другую модель."
   ]
  },
  {
   "cell_type": "code",
   "execution_count": 344,
   "id": "ce3c4686",
   "metadata": {},
   "outputs": [],
   "source": [
    "# rfr = RandomForestRegressor(random_state = 1)\n",
    "rfr = RandomForestRegressor()"
   ]
  },
  {
   "cell_type": "code",
   "execution_count": 345,
   "id": "b75936d5",
   "metadata": {},
   "outputs": [
    {
     "data": {
      "text/plain": [
       "dict_keys(['bootstrap', 'ccp_alpha', 'criterion', 'max_depth', 'max_features', 'max_leaf_nodes', 'max_samples', 'min_impurity_decrease', 'min_samples_leaf', 'min_samples_split', 'min_weight_fraction_leaf', 'n_estimators', 'n_jobs', 'oob_score', 'random_state', 'verbose', 'warm_start'])"
      ]
     },
     "execution_count": 345,
     "metadata": {},
     "output_type": "execute_result"
    }
   ],
   "source": [
    "rfr.get_params().keys()"
   ]
  },
  {
   "cell_type": "code",
   "execution_count": 346,
   "id": "8a4bdcc8",
   "metadata": {},
   "outputs": [],
   "source": [
    "param_grid = {'bootstrap': [True], 'max_depth': [5, 10, None], \\\n",
    "              'max_features': ['auto', 'log2'], 'n_estimators': [5, 6, 7, 8, 9, 10, 11, 12, 13, 15]}\n",
    "\n",
    "g_search = GridSearchCV(estimator = rfr, param_grid = param_grid, \\\n",
    "                        cv = 3, n_jobs = 1, verbose = 0, return_train_score=True)"
   ]
  },
  {
   "cell_type": "code",
   "execution_count": 347,
   "id": "bfb61a42",
   "metadata": {},
   "outputs": [
    {
     "name": "stdout",
     "output_type": "stream",
     "text": [
      "{'bootstrap': True, 'max_depth': 5, 'max_features': 'auto', 'n_estimators': 12}\n"
     ]
    }
   ],
   "source": [
    "g_search.fit(X_train, y_train)\n",
    "print(g_search.best_params_)"
   ]
  },
  {
   "cell_type": "code",
   "execution_count": 348,
   "id": "e7960db9",
   "metadata": {},
   "outputs": [],
   "source": [
    "rfr_upd = RandomForestRegressor(bootstrap=True, max_depth = 5, max_features = 'auto', n_estimators = 15)"
   ]
  },
  {
   "cell_type": "code",
   "execution_count": 349,
   "id": "7e716163",
   "metadata": {},
   "outputs": [],
   "source": [
    "rfr_upd.fit(X_train, y_train)\n",
    "y_pred_rfr = rfr_upd.predict(X_valid)\n",
    "y_pred_rfr_train = rfr_upd.predict(X_train)"
   ]
  },
  {
   "cell_type": "code",
   "execution_count": 350,
   "id": "8fc8ffc5",
   "metadata": {},
   "outputs": [
    {
     "name": "stdout",
     "output_type": "stream",
     "text": [
      "Средняя ошибка на обучении: 41262.076\n",
      "Средняя ошибка на валидации: 44805.479\n"
     ]
    }
   ],
   "source": [
    "print(\"Средняя ошибка на обучении: %.3f\" % sqrt(mean_squared_error(y_train, y_pred_rfr_train)))\n",
    "print(\"Средняя ошибка на валидации: %.3f\" % sqrt(mean_squared_error(y_valid, y_pred_rfr)))"
   ]
  },
  {
   "cell_type": "markdown",
   "id": "8d2f114b",
   "metadata": {},
   "source": [
    "Расчет ошибки с помощью кросс-валидации:"
   ]
  },
  {
   "cell_type": "code",
   "execution_count": 351,
   "id": "1fe37c99",
   "metadata": {},
   "outputs": [
    {
     "data": {
      "text/plain": [
       "array([-2.82652437e+09, -2.76447381e+09, -2.71846330e+09, -2.57227808e+09,\n",
       "       -2.20081474e+09, -1.33104542e+09, -8.95921286e+08, -8.93709531e+08,\n",
       "       -1.59908839e+09, -1.13089549e+09])"
      ]
     },
     "execution_count": 351,
     "metadata": {},
     "output_type": "execute_result"
    }
   ],
   "source": [
    "from sklearn.model_selection import cross_val_score\n",
    "scores = cross_val_score(rfr_upd, X, y, cv=10, scoring='neg_mean_squared_error')\n",
    "scores"
   ]
  },
  {
   "cell_type": "code",
   "execution_count": 352,
   "id": "d7e6b9e4",
   "metadata": {},
   "outputs": [
    {
     "data": {
      "text/plain": [
       "43512.3136770894"
      ]
     },
     "execution_count": 352,
     "metadata": {},
     "output_type": "execute_result"
    }
   ],
   "source": [
    "# https://scikit-learn.org/stable/modules/model_evaluation.html#scoring-parameter\n",
    "sqrt(-scores.mean())"
   ]
  },
  {
   "cell_type": "markdown",
   "id": "2520d4ff",
   "metadata": {},
   "source": [
    "Я ещё попробовала логарифмировать целевой вектор и обучить линейную регрессию на нём."
   ]
  },
  {
   "cell_type": "code",
   "execution_count": 353,
   "id": "314e930b",
   "metadata": {},
   "outputs": [],
   "source": [
    "y_train_log = np.log(y_train)\n",
    "y_valid_log = np.log(y_valid)"
   ]
  },
  {
   "cell_type": "code",
   "execution_count": 354,
   "id": "f23f9223",
   "metadata": {},
   "outputs": [],
   "source": [
    "reg_2 = LinearRegression()\n",
    "reg.fit(X_train, y_train_log)\n",
    "y_pred_log = reg.predict(X_valid)\n",
    "y_pred_train_log = reg.predict(X_train)"
   ]
  },
  {
   "cell_type": "code",
   "execution_count": 355,
   "id": "cdcb631f",
   "metadata": {},
   "outputs": [],
   "source": [
    "y_pred_antilog = np.exp(y_pred_log)\n",
    "y_pred_train_antilog = np.exp(y_pred_train_log)\n",
    "y_train_antilog = np.exp(y_train_log)\n",
    "y_valid_antilog = np.exp(y_valid_log)"
   ]
  },
  {
   "cell_type": "code",
   "execution_count": 356,
   "id": "aa8bdf8a",
   "metadata": {},
   "outputs": [
    {
     "name": "stdout",
     "output_type": "stream",
     "text": [
      "Средняя ошибка на обучении: 43560.947\n",
      "Средняя ошибка на валидации: 48278.509\n"
     ]
    }
   ],
   "source": [
    "print(\"Средняя ошибка на обучении: %.3f\" % sqrt(mean_squared_error(y_train_antilog, y_pred_train_antilog)))\n",
    "print(\"Средняя ошибка на валидации: %.3f\" % sqrt(mean_squared_error(y_valid_antilog, y_pred_antilog)))"
   ]
  },
  {
   "cell_type": "markdown",
   "id": "a3e791ff",
   "metadata": {},
   "source": [
    "Результаты так себе. Скорее всего, это связано с тем, что данные, собранные для датасета, не очень сильно коррелируют с целевой переменной и не оказывают решающего влияния на цену за кв.метр."
   ]
  },
  {
   "cell_type": "code",
   "execution_count": null,
   "id": "a253970a",
   "metadata": {},
   "outputs": [],
   "source": []
  },
  {
   "cell_type": "code",
   "execution_count": null,
   "id": "544a628c",
   "metadata": {},
   "outputs": [],
   "source": []
  },
  {
   "cell_type": "code",
   "execution_count": null,
   "id": "a1ea034a",
   "metadata": {},
   "outputs": [],
   "source": []
  },
  {
   "cell_type": "code",
   "execution_count": null,
   "id": "e931956b",
   "metadata": {},
   "outputs": [],
   "source": []
  },
  {
   "cell_type": "code",
   "execution_count": null,
   "id": "9f8eac3e",
   "metadata": {},
   "outputs": [],
   "source": []
  },
  {
   "cell_type": "code",
   "execution_count": null,
   "id": "03ca9a13",
   "metadata": {},
   "outputs": [],
   "source": []
  }
 ],
 "metadata": {
  "kernelspec": {
   "display_name": "Python 3 (ipykernel)",
   "language": "python",
   "name": "python3"
  },
  "language_info": {
   "codemirror_mode": {
    "name": "ipython",
    "version": 3
   },
   "file_extension": ".py",
   "mimetype": "text/x-python",
   "name": "python",
   "nbconvert_exporter": "python",
   "pygments_lexer": "ipython3",
   "version": "3.9.12"
  }
 },
 "nbformat": 4,
 "nbformat_minor": 5
}
