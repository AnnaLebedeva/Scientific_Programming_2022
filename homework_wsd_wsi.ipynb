{
 "cells": [
  {
   "cell_type": "markdown",
   "id": "d0ca41e2",
   "metadata": {},
   "source": [
    "# Домашнее задание № 7"
   ]
  },
  {
   "cell_type": "markdown",
   "id": "6f0588a6",
   "metadata": {},
   "source": [
    "### Задание 1 Реализовать алгоритм Леска и проверить его на реальном датасете (8 баллов)"
   ]
  },
  {
   "cell_type": "markdown",
   "id": "d6a5283f",
   "metadata": {},
   "source": [
    "Ворднет можно использовать для дизамбигуации. Самый простой алгоритм дизамбигуации - алгоритм Леска. В нём нужное значение слова находится через пересечение слов контекста, в котором употреблено это слово, с определениями значений слова из ворднета. Значение с максимальным пересечением - нужное."
   ]
  },
  {
   "cell_type": "markdown",
   "id": "f6f082cd",
   "metadata": {},
   "source": [
    "Реализуйте его"
   ]
  },
  {
   "cell_type": "code",
   "execution_count": null,
   "id": "3bbc65f1",
   "metadata": {},
   "outputs": [],
   "source": [
    "from string import punctuation\n",
    "punct = punctuation+'«»—…“”*№–'\n",
    "import nltk\n",
    "from nltk.stem import WordNetLemmatizer \n",
    "lemmatizer = WordNetLemmatizer()"
   ]
  },
  {
   "cell_type": "code",
   "execution_count": 127,
   "id": "77ce50db",
   "metadata": {},
   "outputs": [],
   "source": [
    "# nltk.download('punkt')\n",
    "# nltk.download('wordnet')\n",
    "# nltk.download('omw-1.4')"
   ]
  },
  {
   "cell_type": "markdown",
   "id": "9e8af1fb",
   "metadata": {},
   "source": [
    "Для начала создадим вспомогательные функции.  \n",
    "Функция приведения слова к изначальной форме:"
   ]
  },
  {
   "cell_type": "code",
   "execution_count": 131,
   "id": "fff099b5",
   "metadata": {},
   "outputs": [],
   "source": [
    "def word_to_initial_form(word):\n",
    "    return lemmatizer.lemmatize(word)"
   ]
  },
  {
   "cell_type": "markdown",
   "id": "4bc46c9a",
   "metadata": {},
   "source": [
    "Функция, которая переводит предложение в список изначальных форм слов:"
   ]
  },
  {
   "cell_type": "code",
   "execution_count": 132,
   "id": "687fb13a",
   "metadata": {},
   "outputs": [],
   "source": [
    "def sent_to_list_of_initial_forms(sentence):\n",
    "    words = [token for token in list(word_tokenize(sentence)) if token not in punct]\n",
    "    words = [lemmatizer.lemmatize(word) for word in words if word]\n",
    "    return words"
   ]
  },
  {
   "cell_type": "markdown",
   "id": "26e39602",
   "metadata": {},
   "source": [
    "Функция, которая возвращает список 5 слов до и 5 слов после целевого слова, если столько есть в предложении:"
   ]
  },
  {
   "cell_type": "code",
   "execution_count": 166,
   "id": "53b0ee0e",
   "metadata": {},
   "outputs": [],
   "source": [
    "def get_words_in_context(sentence, target_word):\n",
    "    \n",
    "    words = [token for token in list(word_tokenize(sentence)) if token not in punct]\n",
    "    words = [lemmatizer.lemmatize(word) for word in words if word]\n",
    "\n",
    "    target_word_initial_form = lemmatizer.lemmatize(target_word)\n",
    "    \n",
    "    for i in range(len(words)):\n",
    "        if words[i] == target_word_initial_form:\n",
    "            break\n",
    "    context = []\n",
    "    j = 1\n",
    "    while j<6 and (i-j)>=0:\n",
    "        context.append(words[i-j])\n",
    "        j+=1\n",
    "    j = 1\n",
    "    while j<6 and j+i<len(words):\n",
    "        context.append(words[i+j])\n",
    "        j+=1\n",
    "    return context"
   ]
  },
  {
   "cell_type": "markdown",
   "id": "8bb3ad11",
   "metadata": {},
   "source": [
    "Функция lesk, которая принимает на вход целевое слово и содержащее его предложение и возвращает индекс наиболее подходящего определения из Wordnet:"
   ]
  },
  {
   "cell_type": "code",
   "execution_count": 182,
   "id": "668e6803",
   "metadata": {},
   "outputs": [],
   "source": [
    "def lesk(word, sentence):\n",
    "\n",
    "    list_of_coefficients = []\n",
    "    synsets_to_compare = wn.synsets(word_to_initial_form(word))\n",
    "    for i in range(len(synsets_to_compare)):\n",
    "        counter = 0\n",
    "        for context_word in get_words_in_context(sentence, word):\n",
    "            if context_word in sent_to_list_of_initial_forms(wn.synsets(word_to_initial_form(word))[i].definition()):\n",
    "                counter += 1\n",
    "        list_of_coefficients.append(counter)    \n",
    "        \n",
    "    best_synset_index = list_of_coefficients.index(max(list_of_coefficients))\n",
    "        \n",
    "    return best_synset_index"
   ]
  },
  {
   "cell_type": "code",
   "execution_count": 186,
   "id": "67bc4d08",
   "metadata": {},
   "outputs": [
    {
     "data": {
      "text/plain": [
       "1"
      ]
     },
     "execution_count": 186,
     "metadata": {},
     "output_type": "execute_result"
    }
   ],
   "source": [
    "# на вход подается элемент результата работы уже написанной вами функции get_words_in_context\n",
    "lesk('day', 'some point or period in time') # для примера контекст совпадает с одним из определений\n",
    "# а на выходе индекс подходящего синсета"
   ]
  },
  {
   "cell_type": "code",
   "execution_count": 187,
   "id": "965d2dce",
   "metadata": {},
   "outputs": [
    {
     "data": {
      "text/plain": [
       "[Synset('day.n.01'),\n",
       " Synset('day.n.02'),\n",
       " Synset('day.n.03'),\n",
       " Synset('day.n.04'),\n",
       " Synset('day.n.05'),\n",
       " Synset('day.n.06'),\n",
       " Synset('day.n.07'),\n",
       " Synset('sidereal_day.n.01'),\n",
       " Synset('day.n.09'),\n",
       " Synset('day.n.10')]"
      ]
     },
     "execution_count": 187,
     "metadata": {},
     "output_type": "execute_result"
    }
   ],
   "source": [
    "wn.synsets('day')"
   ]
  },
  {
   "cell_type": "code",
   "execution_count": 188,
   "id": "204a4cb0",
   "metadata": {},
   "outputs": [
    {
     "data": {
      "text/plain": [
       "'some point or period in time'"
      ]
     },
     "execution_count": 188,
     "metadata": {},
     "output_type": "execute_result"
    }
   ],
   "source": [
    "# с помощью этого индекса достаем нужный синсет\n",
    "wn.synsets('day')[1].definition()"
   ]
  },
  {
   "cell_type": "code",
   "execution_count": 189,
   "id": "f1af3409",
   "metadata": {},
   "outputs": [
    {
     "data": {
      "text/plain": [
       "Synset('day.n.02')"
      ]
     },
     "execution_count": 189,
     "metadata": {},
     "output_type": "execute_result"
    }
   ],
   "source": [
    "wn.synsets('day')[1]"
   ]
  },
  {
   "cell_type": "markdown",
   "id": "d1a4309c",
   "metadata": {},
   "source": [
    "**Проверьте насколько хорошо работает такой метод на датасете из семинара**"
   ]
  },
  {
   "cell_type": "code",
   "execution_count": 140,
   "id": "1aa7ae8f",
   "metadata": {},
   "outputs": [],
   "source": [
    "corpus_wsd = []\n",
    "corpus = open('corpus_wsd_50k.txt').read().split('\\n\\n')\n",
    "for sent in corpus:\n",
    "    corpus_wsd.append([s.split('\\t') for s in sent.split('\\n')])"
   ]
  },
  {
   "cell_type": "markdown",
   "id": "ecf01fee",
   "metadata": {},
   "source": [
    "Корпус состоит из предложений, где у каждого слова три поля - значение, лемма и само слово. Значение пустое, когда слово однозначное, а у многозначных слов стоит тэг вида **'long%3:00:02::'** Это тэг wordnet'ного формата"
   ]
  },
  {
   "cell_type": "markdown",
   "id": "799b8806",
   "metadata": {},
   "source": [
    "**Вам нужно для каждого многозначного слова (т.е. у него есть тэг в первом поле) с помощью алгоритма Леска предсказать нужный синсет и сравнить с правильным. Посчитайте процент правильных предсказаний (accuracy).**\n",
    "\n",
    "Если считается слишком долго, возьмите поменьше предложений (например, только тысячу)"
   ]
  },
  {
   "cell_type": "code",
   "execution_count": 141,
   "id": "f7bf0345",
   "metadata": {},
   "outputs": [
    {
     "data": {
      "text/plain": [
       "49453"
      ]
     },
     "execution_count": 141,
     "metadata": {},
     "output_type": "execute_result"
    }
   ],
   "source": [
    "len(corpus_wsd)"
   ]
  },
  {
   "cell_type": "code",
   "execution_count": 142,
   "id": "8f3f78b4",
   "metadata": {},
   "outputs": [
    {
     "data": {
      "text/plain": [
       "[['', 'how', 'How'],\n",
       " ['long%3:00:02::', 'long', 'long'],\n",
       " ['', 'have', 'has'],\n",
       " ['', 'it', 'it'],\n",
       " ['be%2:42:03::', 'be', 'been'],\n",
       " ['', 'since', 'since'],\n",
       " ['', 'you', 'you'],\n",
       " ['review%2:31:00::', 'review', 'reviewed'],\n",
       " ['', 'the', 'the'],\n",
       " ['objective%1:09:00::', 'objective', 'objectives'],\n",
       " ['', 'of', 'of'],\n",
       " ['', 'you', 'your'],\n",
       " ['benefit%1:21:00::', 'benefit', 'benefit'],\n",
       " ['', 'and', 'and'],\n",
       " ['service%1:04:07::', 'service', 'service'],\n",
       " ['program%1:09:01::', 'program', 'program'],\n",
       " ['', '?', '?']]"
      ]
     },
     "execution_count": 142,
     "metadata": {},
     "output_type": "execute_result"
    }
   ],
   "source": [
    "corpus_wsd[0]"
   ]
  },
  {
   "cell_type": "markdown",
   "id": "4692d68a",
   "metadata": {},
   "source": [
    "Определим функцию, которая достаёт предложения из корпуса:"
   ]
  },
  {
   "cell_type": "code",
   "execution_count": 153,
   "id": "3d365696",
   "metadata": {},
   "outputs": [],
   "source": [
    "def sentence_out_of_corpus(corpus_item):\n",
    "    sentence = ''\n",
    "    for i in corpus_item:\n",
    "        sentence = sentence + i[2] + \" \"\n",
    "    return sentence"
   ]
  },
  {
   "cell_type": "markdown",
   "id": "63bb3bf4",
   "metadata": {},
   "source": [
    "Для первой тысячи предложений добавим в список результаты сравнения выбранного алгоритмом Леска определения с заявленным:"
   ]
  },
  {
   "cell_type": "code",
   "execution_count": null,
   "id": "64a9c862",
   "metadata": {},
   "outputs": [],
   "source": [
    "accuracy_check = []\n",
    "\n",
    "for num_sent in range(1000):\n",
    "    for word_info in corpus_wsd[num_sent]:\n",
    "        if word_info[0] != '':\n",
    "            accuracy_check.append(wn.lemma_from_key(word_info[0]).synset() == wn.synsets(word_info[1])\\\n",
    "                                  [lesk(word_info[1], sentence_out_of_corpus(corpus_wsd[num_sent]))])\n",
    "accuracy_check"
   ]
  },
  {
   "cell_type": "code",
   "execution_count": 184,
   "id": "8b1183f9",
   "metadata": {},
   "outputs": [
    {
     "data": {
      "text/plain": [
       "9306"
      ]
     },
     "execution_count": 184,
     "metadata": {},
     "output_type": "execute_result"
    }
   ],
   "source": [
    "len(accuracy_check)"
   ]
  },
  {
   "cell_type": "code",
   "execution_count": 185,
   "id": "cd4785da",
   "metadata": {},
   "outputs": [
    {
     "data": {
      "text/plain": [
       "0.41629056522673547"
      ]
     },
     "execution_count": 185,
     "metadata": {},
     "output_type": "execute_result"
    }
   ],
   "source": [
    "accuracy = sum(accuracy_check)/len(accuracy_check)\n",
    "accuracy"
   ]
  },
  {
   "cell_type": "markdown",
   "id": "c48b45d4",
   "metadata": {},
   "source": [
    "### Задание 2* (2 балла)"
   ]
  },
  {
   "cell_type": "markdown",
   "id": "c57ef129",
   "metadata": {},
   "source": [
    "В семинаре для WSI на данных Диалога использовался только Fastext. Попробуйте заменить его на адаграм (обучите свою модель или используйте предобученную out.pkl или https://s3.amazonaws.com/kostia.lopuhin/all.a010.p10.d300.w5.m100.nonorm.slim.joblib), а также поэкспериментируйте с разными алгоритмами кластеризации и их параметрами (можно использовать только те алгоритмы, которые обучаются достаточно быстро)"
   ]
  },
  {
   "cell_type": "markdown",
   "id": "b89e5ea3",
   "metadata": {},
   "source": [
    "Для каждого эксперимента рассчитайте ARI"
   ]
  },
  {
   "cell_type": "code",
   "execution_count": null,
   "id": "1c17e25c",
   "metadata": {},
   "outputs": [],
   "source": []
  }
 ],
 "metadata": {
  "kernelspec": {
   "display_name": "Python 3 (ipykernel)",
   "language": "python",
   "name": "python3"
  },
  "language_info": {
   "codemirror_mode": {
    "name": "ipython",
    "version": 3
   },
   "file_extension": ".py",
   "mimetype": "text/x-python",
   "name": "python",
   "nbconvert_exporter": "python",
   "pygments_lexer": "ipython3",
   "version": "3.9.12"
  }
 },
 "nbformat": 4,
 "nbformat_minor": 5
}
